{
 "cells": [
  {
   "cell_type": "code",
   "execution_count": null,
   "metadata": {},
   "outputs": [],
   "source": [
    "!python --version"
   ]
  },
  {
   "cell_type": "code",
   "execution_count": null,
   "metadata": {},
   "outputs": [],
   "source": [
    "import pyaudio\n",
    "\n",
    "# Create an instance of PyAudio\n",
    "p = pyaudio.PyAudio()\n",
    "\n",
    "# Get the number of audio I/O devices\n",
    "devices = p.get_device_count()\n",
    "\n",
    "# Iterate through all devices\n",
    "for i in range(devices):\n",
    "   # Get the device info\n",
    "   device_info = p.get_device_info_by_index(i)\n",
    "   # Check if this device is a microphone (an input device)\n",
    "   if device_info.get('maxInputChannels') > 0:\n",
    "      print(f\"Microphone: {device_info.get('name')} , Device Index: {device_info.get('index')}\")"
   ]
  },
  {
   "cell_type": "code",
   "execution_count": 3,
   "metadata": {},
   "outputs": [
    {
     "name": "stderr",
     "output_type": "stream",
     "text": [
      "ALSA lib pcm_dsnoop.c:566:(snd_pcm_dsnoop_open) unable to open slave\n",
      "ALSA lib pcm_dmix.c:999:(snd_pcm_dmix_open) unable to open slave\n",
      "ALSA lib pcm.c:2666:(snd_pcm_open_noupdate) Unknown PCM cards.pcm.rear\n",
      "ALSA lib pcm.c:2666:(snd_pcm_open_noupdate) Unknown PCM cards.pcm.center_lfe\n",
      "ALSA lib pcm.c:2666:(snd_pcm_open_noupdate) Unknown PCM cards.pcm.side\n",
      "ALSA lib confmisc.c:1369:(snd_func_refer) Unable to find definition 'cards.2.pcm.hdmi.0:CARD=2,AES0=4,AES1=130,AES2=0,AES3=2'\n",
      "ALSA lib conf.c:5180:(_snd_config_evaluate) function snd_func_refer returned error: No such file or directory\n",
      "ALSA lib conf.c:5703:(snd_config_expand) Evaluate error: No such file or directory\n",
      "ALSA lib pcm.c:2666:(snd_pcm_open_noupdate) Unknown PCM hdmi\n",
      "ALSA lib confmisc.c:1369:(snd_func_refer) Unable to find definition 'cards.2.pcm.hdmi.0:CARD=2,AES0=4,AES1=130,AES2=0,AES3=2'\n",
      "ALSA lib conf.c:5180:(_snd_config_evaluate) function snd_func_refer returned error: No such file or directory\n",
      "ALSA lib conf.c:5703:(snd_config_expand) Evaluate error: No such file or directory\n",
      "ALSA lib pcm.c:2666:(snd_pcm_open_noupdate) Unknown PCM hdmi\n",
      "ALSA lib pcm.c:2666:(snd_pcm_open_noupdate) Unknown PCM cards.pcm.modem\n",
      "ALSA lib pcm.c:2666:(snd_pcm_open_noupdate) Unknown PCM cards.pcm.modem\n",
      "ALSA lib pcm.c:2666:(snd_pcm_open_noupdate) Unknown PCM cards.pcm.phoneline\n",
      "ALSA lib pcm.c:2666:(snd_pcm_open_noupdate) Unknown PCM cards.pcm.phoneline\n",
      "ALSA lib pcm_oss.c:397:(_snd_pcm_oss_open) Cannot open device /dev/dsp\n",
      "ALSA lib pcm_oss.c:397:(_snd_pcm_oss_open) Cannot open device /dev/dsp\n",
      "ALSA lib pcm_a52.c:1001:(_snd_pcm_a52_open) a52 is only for playback\n",
      "ALSA lib confmisc.c:160:(snd_config_get_card) Invalid field card\n",
      "ALSA lib pcm_usb_stream.c:482:(_snd_pcm_usb_stream_open) Invalid card 'card'\n",
      "ALSA lib confmisc.c:160:(snd_config_get_card) Invalid field card\n",
      "ALSA lib pcm_usb_stream.c:482:(_snd_pcm_usb_stream_open) Invalid card 'card'\n",
      "ALSA lib pcm_dmix.c:999:(snd_pcm_dmix_open) unable to open slave\n"
     ]
    },
    {
     "name": "stdout",
     "output_type": "stream",
     "text": [
      "Recording started.\n",
      "Recording stopped.\n",
      "Recording saved as recording.wav.\n"
     ]
    },
    {
     "ename": "AttributeError",
     "evalue": "'AudioRecorder2' object has no attribute 'get_raw_data'",
     "output_type": "error",
     "traceback": [
      "\u001b[0;31m---------------------------------------------------------------------------\u001b[0m",
      "\u001b[0;31mAttributeError\u001b[0m                            Traceback (most recent call last)",
      "Cell \u001b[0;32mIn[3], line 13\u001b[0m\n\u001b[1;32m     10\u001b[0m recorder\u001b[38;5;241m.\u001b[39mstop_recording()\n\u001b[1;32m     12\u001b[0m \u001b[38;5;66;03m# Get the raw audio data\u001b[39;00m\n\u001b[0;32m---> 13\u001b[0m raw_data \u001b[38;5;241m=\u001b[39m \u001b[43mrecorder\u001b[49m\u001b[38;5;241;43m.\u001b[39;49m\u001b[43mget_raw_data\u001b[49m()\n",
      "\u001b[0;31mAttributeError\u001b[0m: 'AudioRecorder2' object has no attribute 'get_raw_data'"
     ]
    }
   ],
   "source": [
    "from AudioRecorder import *\n",
    "import time\n",
    "\n",
    "recorder = AudioRecorder2()\n",
    "recorder.start_recording()\n",
    "timecur = time.time()\n",
    "while time.time() - timecur < 3:\n",
    "    pass\n",
    "# When you want to stop recording\n",
    "recorder.stop_recording()\n"
   ]
  },
  {
   "cell_type": "markdown",
   "metadata": {},
   "source": [
    "### Chat Model Tests"
   ]
  },
  {
   "cell_type": "code",
   "execution_count": 1,
   "metadata": {},
   "outputs": [
    {
     "name": "stdout",
     "output_type": "stream",
     "text": [
      "I am an AI language model, and I am doing well. Thank you for asking. How are you?\n",
      "Hello, Clio. It's nice to hear from you. I'm doing well, thank you for asking.\n",
      "\n",
      "What would you like to talk about today?\n",
      "Sure, here is your name:\n",
      "\n",
      "**Clio**\n",
      "\n",
      "I am glad you asked me that.\n",
      "I'm an AI language model, so I don't have personal feelings or emotions. However, I'm always here to help you with your questions and provide you with information. Is there anything I can assist you with today?\n",
      "The answer is Paris. Paris is the capital of France. It is a city located on the Seine River.\n",
      "Germany is a country located in the heart of Europe. It is the largest economy in the Eurozone and the fifth largest economy in the world by GDP. Germany is known for its strong manufacturing industry, its rich cultural heritage, and its beautiful scenery.\n"
     ]
    }
   ],
   "source": [
    "from chat_model import ChatModel\n",
    "import asyncio\n",
    "\n",
    "chat_model = ChatModel()\n",
    "message = \"Hello, how are you?\"\n",
    "response = await asyncio.create_task(chat_model.chat(message))\n",
    "# Print the response\n",
    "chat_model.print_response(response)\n",
    "\n",
    "response = await asyncio.create_task(chat_model.chat(\"My name is Clio\"))\n",
    "chat_model.print_response(response)\n",
    "\n",
    "response = await asyncio.create_task(chat_model.chat(\"What is my name?\"))\n",
    "chat_model.print_response(response)\n",
    "\n",
    "\n",
    "# # async stream\n",
    "response2 = await asyncio.create_task(chat_model.chat_stream(message))\n",
    "# for chunk in response2:\n",
    "#     print(chunk['message']['content'], end='', flush=True)\n",
    "# chat_model.print_response(response2)\n",
    "\n",
    "response3 = await asyncio.create_task(chat_model.chat_stream(\"What is the capital of France?\"))\n",
    "\n",
    "response4 = await asyncio.create_task(chat_model.chat_stream(\"What about Germany?\"))"
   ]
  },
  {
   "cell_type": "code",
   "execution_count": null,
   "metadata": {},
   "outputs": [],
   "source": []
  }
 ],
 "metadata": {
  "kernelspec": {
   "display_name": "Python 3",
   "language": "python",
   "name": "python3"
  },
  "language_info": {
   "codemirror_mode": {
    "name": "ipython",
    "version": 3
   },
   "file_extension": ".py",
   "mimetype": "text/x-python",
   "name": "python",
   "nbconvert_exporter": "python",
   "pygments_lexer": "ipython3",
   "version": "3.10.13"
  }
 },
 "nbformat": 4,
 "nbformat_minor": 2
}
