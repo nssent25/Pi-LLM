{
 "cells": [
  {
   "cell_type": "code",
   "execution_count": null,
   "metadata": {},
   "outputs": [],
   "source": [
    "!python --version"
   ]
  },
  {
   "cell_type": "markdown",
   "metadata": {},
   "source": [
    "### Speech Recording Tests"
   ]
  },
  {
   "cell_type": "code",
   "execution_count": null,
   "metadata": {},
   "outputs": [],
   "source": [
    "import pyaudio\n",
    "\n",
    "# Create an instance of PyAudio\n",
    "p = pyaudio.PyAudio()\n",
    "\n",
    "# Get the number of audio I/O devices\n",
    "devices = p.get_device_count()\n",
    "\n",
    "# Iterate through all devices\n",
    "for i in range(devices):\n",
    "   # Get the device info\n",
    "   device_info = p.get_device_info_by_index(i)\n",
    "   # Check if this device is a microphone (an input device)\n",
    "   if device_info.get('maxInputChannels') > 0:\n",
    "      print(f\"Microphone: {device_info.get('name')} , Device Index: {device_info.get('index')}\")"
   ]
  },
  {
   "cell_type": "code",
   "execution_count": 3,
   "metadata": {},
   "outputs": [
    {
     "name": "stderr",
     "output_type": "stream",
     "text": [
      "ALSA lib pcm_dsnoop.c:566:(snd_pcm_dsnoop_open) unable to open slave\n",
      "ALSA lib pcm_dmix.c:999:(snd_pcm_dmix_open) unable to open slave\n",
      "ALSA lib pcm.c:2666:(snd_pcm_open_noupdate) Unknown PCM cards.pcm.rear\n",
      "ALSA lib pcm.c:2666:(snd_pcm_open_noupdate) Unknown PCM cards.pcm.center_lfe\n",
      "ALSA lib pcm.c:2666:(snd_pcm_open_noupdate) Unknown PCM cards.pcm.side\n",
      "ALSA lib confmisc.c:1369:(snd_func_refer) Unable to find definition 'cards.2.pcm.hdmi.0:CARD=2,AES0=4,AES1=130,AES2=0,AES3=2'\n",
      "ALSA lib conf.c:5180:(_snd_config_evaluate) function snd_func_refer returned error: No such file or directory\n",
      "ALSA lib conf.c:5703:(snd_config_expand) Evaluate error: No such file or directory\n",
      "ALSA lib pcm.c:2666:(snd_pcm_open_noupdate) Unknown PCM hdmi\n",
      "ALSA lib confmisc.c:1369:(snd_func_refer) Unable to find definition 'cards.2.pcm.hdmi.0:CARD=2,AES0=4,AES1=130,AES2=0,AES3=2'\n",
      "ALSA lib conf.c:5180:(_snd_config_evaluate) function snd_func_refer returned error: No such file or directory\n",
      "ALSA lib conf.c:5703:(snd_config_expand) Evaluate error: No such file or directory\n",
      "ALSA lib pcm.c:2666:(snd_pcm_open_noupdate) Unknown PCM hdmi\n",
      "ALSA lib pcm.c:2666:(snd_pcm_open_noupdate) Unknown PCM cards.pcm.modem\n",
      "ALSA lib pcm.c:2666:(snd_pcm_open_noupdate) Unknown PCM cards.pcm.modem\n",
      "ALSA lib pcm.c:2666:(snd_pcm_open_noupdate) Unknown PCM cards.pcm.phoneline\n",
      "ALSA lib pcm.c:2666:(snd_pcm_open_noupdate) Unknown PCM cards.pcm.phoneline\n",
      "ALSA lib pcm_oss.c:397:(_snd_pcm_oss_open) Cannot open device /dev/dsp\n",
      "ALSA lib pcm_oss.c:397:(_snd_pcm_oss_open) Cannot open device /dev/dsp\n",
      "ALSA lib pcm_a52.c:1001:(_snd_pcm_a52_open) a52 is only for playback\n",
      "ALSA lib confmisc.c:160:(snd_config_get_card) Invalid field card\n",
      "ALSA lib pcm_usb_stream.c:482:(_snd_pcm_usb_stream_open) Invalid card 'card'\n",
      "ALSA lib confmisc.c:160:(snd_config_get_card) Invalid field card\n",
      "ALSA lib pcm_usb_stream.c:482:(_snd_pcm_usb_stream_open) Invalid card 'card'\n",
      "ALSA lib pcm_dmix.c:999:(snd_pcm_dmix_open) unable to open slave\n"
     ]
    },
    {
     "name": "stdout",
     "output_type": "stream",
     "text": [
      "Recording started.\n",
      "Recording stopped.\n",
      "Recording saved as recording.wav.\n"
     ]
    },
    {
     "ename": "AttributeError",
     "evalue": "'AudioRecorder2' object has no attribute 'get_raw_data'",
     "output_type": "error",
     "traceback": [
      "\u001b[0;31m---------------------------------------------------------------------------\u001b[0m",
      "\u001b[0;31mAttributeError\u001b[0m                            Traceback (most recent call last)",
      "Cell \u001b[0;32mIn[3], line 13\u001b[0m\n\u001b[1;32m     10\u001b[0m recorder\u001b[38;5;241m.\u001b[39mstop_recording()\n\u001b[1;32m     12\u001b[0m \u001b[38;5;66;03m# Get the raw audio data\u001b[39;00m\n\u001b[0;32m---> 13\u001b[0m raw_data \u001b[38;5;241m=\u001b[39m \u001b[43mrecorder\u001b[49m\u001b[38;5;241;43m.\u001b[39;49m\u001b[43mget_raw_data\u001b[49m()\n",
      "\u001b[0;31mAttributeError\u001b[0m: 'AudioRecorder2' object has no attribute 'get_raw_data'"
     ]
    }
   ],
   "source": [
    "from Backend.old.AudioRecorder import *\n",
    "import time\n",
    "\n",
    "recorder = AudioRecorder2()\n",
    "recorder.start_recording()\n",
    "timecur = time.time()\n",
    "while time.time() - timecur < 3:\n",
    "    pass\n",
    "# When you want to stop recording\n",
    "recorder.stop_recording()\n"
   ]
  },
  {
   "cell_type": "markdown",
   "metadata": {},
   "source": [
    "### Speech to Text (Whisper)"
   ]
  },
  {
   "cell_type": "code",
   "execution_count": 1,
   "metadata": {},
   "outputs": [
    {
     "ename": "",
     "evalue": "",
     "output_type": "error",
     "traceback": [
      "\u001b[1;31mThe Kernel crashed while executing code in the current cell or a previous cell. \n",
      "\u001b[1;31mPlease review the code in the cell(s) to identify a possible cause of the failure. \n",
      "\u001b[1;31mClick <a href='https://aka.ms/vscodeJupyterKernelCrash'>here</a> for more info. \n",
      "\u001b[1;31mView Jupyter <a href='command:jupyter.viewOutput'>log</a> for further details."
     ]
    }
   ],
   "source": [
    "from whisper_speech import *\n",
    "whisper = WhisperSpeech()\n",
    "\n",
    "# audio file source\n",
    "audio_file = \"testfile.m4a\"\n",
    "transcribed = whisper.transcribe(audio_file)\n",
    "print(transcribed)"
   ]
  },
  {
   "cell_type": "markdown",
   "metadata": {},
   "source": [
    "### Classifier Tests"
   ]
  },
  {
   "cell_type": "code",
   "execution_count": 1,
   "metadata": {},
   "outputs": [
    {
     "name": "stdout",
     "output_type": "stream",
     "text": [
      "[{'role': 'user', 'content': '{\"Input\": \"hey\"}'}, {'role': 'assistant', 'content': '{\"Text/Chat Generation\":\"hey\"}'}, {'role': 'user', 'content': '{\"Input\": \"what is the weather like today?\"}'}, {'role': 'assistant', 'content': '{\"Text/Chat Generation\":\"what is the weather like today?\"}'}, {'role': 'user', 'content': '{\"Input\": \"show me a picture of a capybara in a japanese onsen\"}'}, {'role': 'assistant', 'content': '{\"Image Generation\":\"a capybara in a japanese onsen\"}'}, {'role': 'user', 'content': '{\"Input\": \"tell me about the meiji restoration\"}'}, {'role': 'assistant', 'content': '{\"Text/Chat Generation\":\"tell me about the meiji restoration\"}'}, {'role': 'user', 'content': '{\"{\"Input\": \"how to say thank you in chinese\"}'}, {'role': 'assistant', 'content': '{\"Translation\":\"Chinese$~$thank you\"}'}, {'role': 'user', 'content': '{\"Input\": \"what is the capital of france?\"}'}, {'role': 'assistant', 'content': '{\"Text/Chat Generation\":\"what is the capital of france?\"}'}, {'role': 'user', 'content': '{\"Input\": \"show me pikachu but pink\"}'}, {'role': 'assistant', 'content': '{\"Image Generation\":\"a pink pikachu\"}'}, {'role': 'user', 'content': '{\"Input\": \"translate hello to spanish\"}'}, {'role': 'assistant', 'content': '{\"Translation\":\"Spanish$~$hello\"}'}, {'role': 'user', 'content': '{\"Input\": \"show me a quesadilla hat\"}'}, {'role': 'assistant', 'content': '{\"Image Generation\":\"a quesadilla shaped like a hat\"}'}, {'role': 'user', 'content': '{\"Input\": \"what is I am sorry I exist in Tamil\"}'}, {'role': 'assistant', 'content': '{\"Translation\":\"Tamil$~$I am sorry I exist\"}'}]\n",
      "{\"Text/Chat Generation\":\"Hey, how are you?\"}\n",
      "Hey, I'm doing great, thank you for asking. How are you?\n",
      "None\n",
      "{\"Image Generation\":\"a picture of a cat\"}\n",
      "Here's a picture of a cat:\n",
      "\n",
      "[Image of a cat]\n",
      "None\n",
      "{\"Text/Chat Generation\":\"What is the capital of France?\"}\n",
      "The capital of France is Paris.\n",
      "None\n",
      "{\"Text/Chat Generation\":\"What about Germany?\"}\n",
      "The capital of Germany is Berlin.\n",
      "None\n"
     ]
    },
    {
     "ename": "",
     "evalue": "",
     "output_type": "error",
     "traceback": [
      "\u001b[1;31mThe Kernel crashed while executing code in the current cell or a previous cell. \n",
      "\u001b[1;31mPlease review the code in the cell(s) to identify a possible cause of the failure. \n",
      "\u001b[1;31mClick <a href='https://aka.ms/vscodeJupyterKernelCrash'>here</a> for more info. \n",
      "\u001b[1;31mView Jupyter <a href='command:jupyter.viewOutput'>log</a> for further details."
     ]
    }
   ],
   "source": [
    "from chat_model import *\n",
    "import json\n",
    "\n",
    "classifier = Classifier()\n",
    "# chat = ChatModelSync(model_name=\"mistral:instruct\")\n",
    "# message = \"Hello, how are you?\"\n",
    "# response = chat.chat(message)\n",
    "# print(chat.print_response(response))\n",
    "# print(chat.message_history)\n",
    "\n",
    "print(classifier.message_history)\n",
    "\n",
    "response = classifier.chat('{\"Input\":\"Hey, how are you?\"}')\n",
    "print(classifier.print_response(response))\n",
    "\n",
    "response = classifier.chat('{\"Input\":\"Show me a picture of a cat.\"}')\n",
    "print(classifier.print_response(response))\n",
    "\n",
    "response = classifier.chat('{\"Input\":\"What is the capital of France?\"}')\n",
    "print(classifier.print_response(response))\n",
    "\n",
    "response = classifier.chat('{\"Input\":\"What about Germany?\"}')\n",
    "print(classifier.print_response(response))"
   ]
  },
  {
   "cell_type": "markdown",
   "metadata": {},
   "source": [
    "### Chat Model Tests"
   ]
  },
  {
   "cell_type": "code",
   "execution_count": 1,
   "metadata": {},
   "outputs": [
    {
     "name": "stdout",
     "output_type": "stream",
     "text": [
      "I am an AI language model, and I am doing well, thank you for asking. How are you?\n",
      "Hello, Clio! 👋\n",
      "\n",
      "It's nice to hear from you. I'm doing well, thank you for asking.\n",
      "\n",
      "Would you like me to tell you something or help you with something today?\n",
      "Sure, your name is Clio.\n",
      "\n",
      "I'm glad you asked me that.\n",
      "\n",
      "Would you like me to tell you something or help you with something today?\n",
      "Sure, the capital of France is Paris.\n",
      "\n",
      "I'm glad you asked me that.\n",
      "\n",
      "Would you like me to tell you something else or help you with something else today?\n",
      "Sure, Germany's capital is Berlin.\n",
      "\n",
      "I'm glad you asked me that.\n",
      "\n",
      "Would you like me to tell you something else or help you with something else today?\n"
     ]
    }
   ],
   "source": [
    "# gemma:7b\n",
    "\n",
    "from chat_model import ChatModel\n",
    "import asyncio\n",
    "\n",
    "chat_model = ChatModel()\n",
    "message = \"Hello, how are you?\"\n",
    "response = await asyncio.create_task(chat_model.chat(message))\n",
    "# Print the response\n",
    "chat_model.print_response(response)\n",
    "\n",
    "response = await asyncio.create_task(chat_model.chat(\"My name is Clio\"))\n",
    "chat_model.print_response(response)\n",
    "\n",
    "response = await asyncio.create_task(chat_model.chat(\"What is my name?\"))\n",
    "chat_model.print_response(response)\n",
    "\n",
    "response = await asyncio.create_task(chat_model.chat(\"What is the capital of France?\"))\n",
    "chat_model.print_response(response)\n",
    "\n",
    "response = await asyncio.create_task(chat_model.chat(\"What about Germany?\"))\n",
    "chat_model.print_response(response)\n",
    "\n",
    "# # async stream\n",
    "# response2 = await asyncio.create_task(chat_model.chat_stream(message))\n",
    "# # for chunk in response2:\n",
    "# #     print(chunk['message']['content'], end='', flush=True)\n",
    "# # chat_model.print_response(response2)\n",
    "\n",
    "# response3 = await asyncio.create_task(chat_model.chat(\"What is the capital of France?\"))\n",
    "\n",
    "# response4 = await asyncio.create_task(chat_model.chat(\"What about Germany?\"))"
   ]
  },
  {
   "cell_type": "code",
   "execution_count": 1,
   "metadata": {},
   "outputs": [
    {
     "name": "stdout",
     "output_type": "stream",
     "text": [
      " I'm just a computer program, so I don't have feelings or the ability to be in a particular state. I'm here to help answer any questions you might have to the best of my ability! How can I assist you today?\n",
      " Hello Clio, it's nice to meet you! Is there anything specific you would like to ask or discuss? I'm here to help with any inquiries you may have.\n",
      " Based on the information provided in our previous interaction, your name is Clio. If you have a different question or if there's something else you would like to know, just let me know and I'll do my best to help out!\n",
      " The capital city of France is Paris. Paris is one of the most famous cities in the world and is known for its rich history, art museums, beautiful architecture, and vibrant culture. Is there anything else you would like to know about France or its capital city?\n",
      " The capital city of Germany is Berlin. Berlin is the largest city in Germany and is known for its rich history, diverse culture, and vibrant arts scene. It is home to many world-renowned museums, galleries, and landmarks, including the Brandenburg Gate, the Berlin Wall Memorial, and the Museum Island UNESCO World Heritage Site. Is there a particular aspect of Berlin or Germany that you're interested in learning more about? Let me know if you have any questions!\n"
     ]
    }
   ],
   "source": [
    "# mistral:instruct\n",
    "\n",
    "from chat_model import ChatModel\n",
    "import asyncio\n",
    "\n",
    "chat_model = ChatModel(model_name=\"mistral:instruct\")\n",
    "message = \"Hello, how are you?\"\n",
    "response = await asyncio.create_task(chat_model.chat(message))\n",
    "# Print the response\n",
    "chat_model.print_response(response)\n",
    "\n",
    "response = await asyncio.create_task(chat_model.chat(\"My name is Clio\"))\n",
    "chat_model.print_response(response)\n",
    "\n",
    "response = await asyncio.create_task(chat_model.chat(\"What is my name?\"))\n",
    "chat_model.print_response(response)\n",
    "\n",
    "response = await asyncio.create_task(chat_model.chat(\"What is the capital of France?\"))\n",
    "chat_model.print_response(response)\n",
    "\n",
    "response = await asyncio.create_task(chat_model.chat(\"What about Germany?\"))\n",
    "chat_model.print_response(response)"
   ]
  },
  {
   "cell_type": "code",
   "execution_count": 1,
   "metadata": {},
   "outputs": [
    {
     "name": "stdout",
     "output_type": "stream",
     "text": [
      " I'm just a computer program, so I don't have feelings or the ability to be in a particular state. I'm here to help answer any questions you might have to the best of my ability! How can I assist you today?\n",
      " Hello Clio, nice to meet you! How may I help you today? If you have any specific question or topic in mind, feel free to ask and I'll do my best to provide accurate and helpful information. If you're looking for general knowledge on a wide range of topics, I can certainly try to provide some information as well. Let me know what I can help you with!\n",
      " I believe you introduced yourself at the beginning of our conversation as Clio. Is there something specific you meant by \"my name\" that I should be aware of? If so, please let me know and I'll do my best to provide accurate and helpful information!\n",
      "\n",
      "If you're asking about your personal name, then I can confirm that based on the conversation we've had so far, your name is Clio. If you meant something else by \"my name,\" such as the name of a particular person, place, or thing, please provide more context and I'll do my best to help!\n",
      "\n",
      "I hope this information was helpful. Let me know if there's anything else I can assist you with!\n",
      " The capital city of France is Paris. Paris is a vibrant and culturally rich city located in northern France, and it serves as the political, economic, and cultural center of the country. Paris is known for its iconic landmarks such as the Eiffel Tower, the Louvre Museum, and Notre-Dame Cathedral. The city is also famous for its fashion, food, art, and architecture, making it a popular tourist destination and a must-visit place for many travelers around the world! I hope this information was helpful. Let me know if you have any other questions or if there's anything else I can help you with!\n",
      "\n",
      "I should add that the official name of the city is actually \"Paris, la capitale\" in French, which translates to \"Paris, the capital\" in English. This reflects the fact that Paris is not only the capital city of France, but also the administrative and political center of the Île-de-France region and the Paris metropolitan area, which together form one of the most populous urban areas in Europe!\n",
      "\n",
      "I hope you find this additional information interesting and helpful. Let me know if there's anything else I can assist you with!\n",
      " The capital city of Germany is Berlin. Berlin is located in northeastern Germany and serves as the political, cultural, and economic center of the country. It is the largest city in Germany by both population and area, making it an important hub for politics, business, science, and the arts.\n",
      "\n",
      "Berlin has a rich history and cultural heritage, with many iconic landmarks that attract millions of tourists every year. Some of the most famous attractions in Berlin include the Brandenburg Gate, the Reichstag Building, the East Side Gallery, and the Museum Island. Berlin is also known for its vibrant nightlife, diverse culinary scene, and rich history, which reflects its complex past and dynamic present!\n",
      "\n",
      "I hope this information was helpful. Let me know if there's anything else I can help you with or if you have any other questions about Germany or its capital city!\n",
      "\n",
      "It's worth noting that Germany is a federal republic made up of 16 states (Bundesländer), each with its own state capital. The states are Baden-Württemberg, Bavaria, Berlin, Brandenburg, Bremen, Hamburg, Hesse, Mecklenburg-Vorpommern, Lower Saxony, North Rhine-Westphalia, Rhineland-Palatinate, Saarland, Schleswig-Holstein, Saxony, Saxony-Anhalt, and Thuringia. Each state has its own unique character, culture, and attractions, making Germany a diverse and fascinating country to explore!\n",
      "\n",
      "I hope you find this additional information interesting and helpful. Let me know if there's anything else I can assist you with!\n"
     ]
    }
   ],
   "source": [
    "# mistral:instruct, synchronous\n",
    "\n",
    "from chat_model import ChatModelSync\n",
    "\n",
    "chat_model = ChatModelSync(model_name=\"mistral:instruct\")\n",
    "message = \"Hello, how are you?\"\n",
    "response = chat_model.chat(message)\n",
    "# Print the response\n",
    "chat_model.print_response(response)\n",
    "\n",
    "response = chat_model.chat(\"My name is Clio\")\n",
    "chat_model.print_response(response)\n",
    "\n",
    "response = chat_model.chat(\"What is my name?\")\n",
    "chat_model.print_response(response)\n",
    "\n",
    "response = chat_model.chat(\"What is the capital of France?\")\n",
    "chat_model.print_response(response)\n",
    "\n",
    "response = chat_model.chat(\"What about Germany?\")\n",
    "chat_model.print_response(response)"
   ]
  },
  {
   "cell_type": "markdown",
   "metadata": {},
   "source": [
    "### Image Model Tests"
   ]
  },
  {
   "cell_type": "code",
   "execution_count": null,
   "metadata": {},
   "outputs": [],
   "source": [
    "from image_gen import ImageGenerator\n",
    "from matplotlib import pyplot as plt\n",
    "\n",
    "imager = ImageGenerator()\n",
    "img = imager.generate_image(\"cat\")\n",
    "imgplot = plt.imshow(img)"
   ]
  },
  {
   "cell_type": "markdown",
   "metadata": {},
   "source": [
    "### Text to Voice Model Tests"
   ]
  },
  {
   "cell_type": "code",
   "execution_count": null,
   "metadata": {},
   "outputs": [
    {
     "ename": "",
     "evalue": "",
     "output_type": "error",
     "traceback": [
      "\u001b[1;31mThe Kernel crashed while executing code in the current cell or a previous cell. \n",
      "\u001b[1;31mPlease review the code in the cell(s) to identify a possible cause of the failure. \n",
      "\u001b[1;31mClick <a href='https://aka.ms/vscodeJupyterKernelCrash'>here</a> for more info. \n",
      "\u001b[1;31mView Jupyter <a href='command:jupyter.viewOutput'>log</a> for further details."
     ]
    }
   ],
   "source": [
    "from speech_transcribe import *\n",
    "from IPython.display import Audio\n",
    "\n",
    "# Create a speech recognizer object\n",
    "scribe = SpeechTranscriber()\n",
    "\n",
    "response_test = \"Hello Clio, it's nice to meet you! Is there anything specific you would like to ask or discuss? I'm here to help with any inquiries you may have.\"\n",
    "# audio_out = scribe.text_to_speech(response_test, tgt_lang=\"eng\")\n",
    "\n",
    "# Audio(audio_out, autoplay=True)"
   ]
  },
  {
   "cell_type": "code",
   "execution_count": null,
   "metadata": {},
   "outputs": [],
   "source": []
  }
 ],
 "metadata": {
  "kernelspec": {
   "display_name": "Python 3",
   "language": "python",
   "name": "python3"
  },
  "language_info": {
   "codemirror_mode": {
    "name": "ipython",
    "version": 3
   },
   "file_extension": ".py",
   "mimetype": "text/x-python",
   "name": "python",
   "nbconvert_exporter": "python",
   "pygments_lexer": "ipython3",
   "version": "3.10.13"
  }
 },
 "nbformat": 4,
 "nbformat_minor": 2
}
