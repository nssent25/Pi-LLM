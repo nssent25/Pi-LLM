{
 "cells": [
  {
   "cell_type": "code",
   "execution_count": 1,
   "metadata": {},
   "outputs": [
    {
     "name": "stdout",
     "output_type": "stream",
     "text": [
      "Python 3.10.13\n"
     ]
    }
   ],
   "source": [
    "!python --version"
   ]
  },
  {
   "cell_type": "code",
   "execution_count": 1,
   "metadata": {},
   "outputs": [
    {
     "name": "stdout",
     "output_type": "stream",
     "text": [
      "Microphone: MacBook Pro Microphone , Device Index: 0\n",
      "Microphone: Nithun’s iPhone  Microphone , Device Index: 2\n",
      "Microphone: ZoomAudioDevice , Device Index: 3\n"
     ]
    }
   ],
   "source": [
    "import pyaudio\n",
    "\n",
    "# Create an instance of PyAudio\n",
    "p = pyaudio.PyAudio()\n",
    "\n",
    "# Get the number of audio I/O devices\n",
    "devices = p.get_device_count()\n",
    "\n",
    "# Iterate through all devices\n",
    "for i in range(devices):\n",
    "   # Get the device info\n",
    "   device_info = p.get_device_info_by_index(i)\n",
    "   # Check if this device is a microphone (an input device)\n",
    "   if device_info.get('maxInputChannels') > 0:\n",
    "      print(f\"Microphone: {device_info.get('name')} , Device Index: {device_info.get('index')}\")"
   ]
  },
  {
   "cell_type": "code",
   "execution_count": 1,
   "metadata": {},
   "outputs": [
    {
     "name": "stderr",
     "output_type": "stream",
     "text": [
      "Exception in thread Thread-4 (record):\n",
      "Traceback (most recent call last):\n",
      "  File \"/opt/homebrew/anaconda3/envs/llm/lib/python3.10/threading.py\", line 1016, in _bootstrap_inner\n",
      "    self.run()\n",
      "  File \"/opt/homebrew/anaconda3/envs/llm/lib/python3.10/site-packages/ipykernel/ipkernel.py\", line 761, in run_closure\n",
      "    _threading_Thread_run(self)\n",
      "  File \"/opt/homebrew/anaconda3/envs/llm/lib/python3.10/threading.py\", line 953, in run\n",
      "    self._target(*self._args, **self._kwargs)\n",
      "  File \"/Users/nithun.s/Documents/College/Courses/CS431/Pi-LLM/Backend/AudioRecorder.py\", line 69, in record\n",
      "    with sd.InputStream(callback=callback, channels=self.channels, samplerate=self.sample_rate):\n",
      "  File \"/opt/homebrew/anaconda3/envs/llm/lib/python3.10/site-packages/sounddevice.py\", line 1421, in __init__\n",
      "    _StreamBase.__init__(self, kind='input', wrap_callback='array',\n",
      "  File \"/opt/homebrew/anaconda3/envs/llm/lib/python3.10/site-packages/sounddevice.py\", line 898, in __init__\n",
      "    _check(_lib.Pa_OpenStream(self._ptr, iparameters, oparameters,\n",
      "  File \"/opt/homebrew/anaconda3/envs/llm/lib/python3.10/site-packages/sounddevice.py\", line 2745, in _check\n",
      "    raise PortAudioError(errormsg, err, hosterror_info)\n",
      "sounddevice.PortAudioError: <exception str() failed>\n"
     ]
    },
    {
     "name": "stdout",
     "output_type": "stream",
     "text": [
      "||PaMacCore (AUHAL)|| AUHAL component not found."
     ]
    },
    {
     "ename": "ValueError",
     "evalue": "need at least one array to concatenate",
     "output_type": "error",
     "traceback": [
      "\u001b[0;31m---------------------------------------------------------------------------\u001b[0m",
      "\u001b[0;31mValueError\u001b[0m                                Traceback (most recent call last)",
      "Cell \u001b[0;32mIn[1], line 12\u001b[0m\n\u001b[1;32m      9\u001b[0m recorder\u001b[38;5;241m.\u001b[39mstop_recording()\n\u001b[1;32m     11\u001b[0m \u001b[38;5;66;03m# Get the raw audio data\u001b[39;00m\n\u001b[0;32m---> 12\u001b[0m raw_data \u001b[38;5;241m=\u001b[39m \u001b[43mrecorder\u001b[49m\u001b[38;5;241;43m.\u001b[39;49m\u001b[43mget_raw_data\u001b[49m\u001b[43m(\u001b[49m\u001b[43m)\u001b[49m\n",
      "File \u001b[0;32m~/Documents/College/Courses/CS431/Pi-LLM/Backend/AudioRecorder.py:84\u001b[0m, in \u001b[0;36mAudioRecorder.get_raw_data\u001b[0;34m(self)\u001b[0m\n\u001b[1;32m     83\u001b[0m \u001b[38;5;28;01mdef\u001b[39;00m \u001b[38;5;21mget_raw_data\u001b[39m(\u001b[38;5;28mself\u001b[39m):\n\u001b[0;32m---> 84\u001b[0m     \u001b[38;5;28;01mreturn\u001b[39;00m \u001b[43mnp\u001b[49m\u001b[38;5;241;43m.\u001b[39;49m\u001b[43mconcatenate\u001b[49m\u001b[43m(\u001b[49m\u001b[38;5;28;43mself\u001b[39;49m\u001b[38;5;241;43m.\u001b[39;49m\u001b[43mframes\u001b[49m\u001b[43m)\u001b[49m\n",
      "\u001b[0;31mValueError\u001b[0m: need at least one array to concatenate"
     ]
    }
   ],
   "source": [
    "from AudioRecorder import AudioRecorder\n",
    "import time\n",
    "\n",
    "recorder = AudioRecorder()\n",
    "recorder.start_recording()\n",
    "\n",
    "time.sleep(5)\n",
    "# When you want to stop recording\n",
    "recorder.stop_recording()\n",
    "\n",
    "# Get the raw audio data\n",
    "raw_data = recorder.get_raw_data()"
   ]
  },
  {
   "cell_type": "code",
   "execution_count": null,
   "metadata": {},
   "outputs": [],
   "source": []
  }
 ],
 "metadata": {
  "kernelspec": {
   "display_name": "Python 3",
   "language": "python",
   "name": "python3"
  },
  "language_info": {
   "codemirror_mode": {
    "name": "ipython",
    "version": 3
   },
   "file_extension": ".py",
   "mimetype": "text/x-python",
   "name": "python",
   "nbconvert_exporter": "python",
   "pygments_lexer": "ipython3",
   "version": "3.10.13"
  }
 },
 "nbformat": 4,
 "nbformat_minor": 2
}
